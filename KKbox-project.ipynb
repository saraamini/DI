{
 "cells": [
  {
   "cell_type": "markdown",
   "metadata": {},
   "source": [
    "# 1. Introduction"
   ]
  },
  {
   "cell_type": "markdown",
   "metadata": {},
   "source": [
    "Have you ever used music or movie streaming service? \n",
    "Lets say you have a Netflix subscription and you pay a monthly fee to use their service, And of course you are free to stop your subscription whenever you want if you don’t like the service or don’t need it anymore.\n",
    "\n",
    "From the business point of view, it is very important for a business to keep their current users around and make sure they renew their subscription every month or as we say prevent them from churning. They mostly do it by offering the users new deals like lower prices. But before anything, they should predict churn before it happens. \n",
    "\n",
    "In this project I am doing the churn prediction for a music streaming service in Asia, named KKBox. The goal is to identify the users that will churn in the next 30 days after their current subscription expires."
   ]
  },
  {
   "cell_type": "markdown",
   "metadata": {},
   "source": [
    "![title](customer-churn.jpg)"
   ]
  },
  {
   "cell_type": "markdown",
   "metadata": {},
   "source": [
    "# 2. Dataset"
   ]
  },
  {
   "cell_type": "markdown",
   "metadata": {},
   "source": [
    "I have access to 3 categories of data :\n",
    "\n",
    "1. Transactions: which contains : user id, payment method, length of membership plan in days, plan list price, actual amount paid, if the user uses auto payment, the transaction’s date, the members expiration date and whether or not the user canceled the membership in this transaction.\n",
    "2. daily user logs describing listening behaviors of a user which contains : user id, date, # of songs played less than 25% of the song length # of songs played between 25% to 50% of the song length, # of songs played between 50% to 75% of of the song length, # of songs played between 75% to 98.5% of the song length, # of songs played over 98.5% of the song length, # of unique songs played and total seconds played.\n",
    "3. user information: user id, city, age, gender, registration method, registration initial time.\n",
    "\n",
    "These data belongs to more than 1 million users over the period of 13 years.\n",
    "\n",
    "\n",
    "To reduce the number of features, I used decision tree which gives the importances of all the features."
   ]
  },
  {
   "cell_type": "markdown",
   "metadata": {},
   "source": [
    "![title](imp.png)"
   ]
  },
  {
   "cell_type": "markdown",
   "metadata": {},
   "source": [
    "From now on I just use 5 relatively more important features to make my classification model. (Since I have used the 'transaction date' in labeling the data, I will not use it as an important feature in the classification model.)"
   ]
  },
  {
   "cell_type": "markdown",
   "metadata": {},
   "source": [
    "# 3. Churn rate"
   ]
  },
  {
   "cell_type": "markdown",
   "metadata": {},
   "source": [
    "## 3.1. Date"
   ]
  },
  {
   "cell_type": "markdown",
   "metadata": {},
   "source": [
    "![title](datechurn.png)"
   ]
  },
  {
   "cell_type": "markdown",
   "metadata": {},
   "source": [
    "![title](datenotchurn.png)"
   ]
  },
  {
   "cell_type": "markdown",
   "metadata": {},
   "source": [
    "This feature shows the date of the last log for each user. As expected, the churn rate is higher among the users whom have not logged in to their account recently."
   ]
  },
  {
   "cell_type": "markdown",
   "metadata": {},
   "source": [
    "## 3.2. Registration initial time"
   ]
  },
  {
   "cell_type": "markdown",
   "metadata": {},
   "source": [
    "![title](RIT1.png)"
   ]
  },
  {
   "cell_type": "markdown",
   "metadata": {},
   "source": [
    "![title](RIT0.png)"
   ]
  },
  {
   "cell_type": "markdown",
   "metadata": {},
   "source": [
    "Looking at the registration initial time, we can see that users who had been started using the service in specific time periods, (e.g. Jan and Feb 2016), are more likely to stop their subscriptions."
   ]
  },
  {
   "cell_type": "markdown",
   "metadata": {},
   "source": [
    "## 3.3. Logs count"
   ]
  },
  {
   "cell_type": "markdown",
   "metadata": {},
   "source": [
    "![title](LC.png)"
   ]
  },
  {
   "cell_type": "markdown",
   "metadata": {},
   "source": [
    "As expected, he fewer log data entries a user has the more likely they are to churn."
   ]
  },
  {
   "cell_type": "markdown",
   "metadata": {},
   "source": [
    "## 3.4. Transactions count"
   ]
  },
  {
   "cell_type": "markdown",
   "metadata": {},
   "source": [
    "![title](TC.png)"
   ]
  },
  {
   "cell_type": "markdown",
   "metadata": {},
   "source": [
    "Same as User's logs, the fewer transactions a user has, the more likely they are to churn."
   ]
  },
  {
   "cell_type": "markdown",
   "metadata": {},
   "source": [
    "## 3.5. Payment method id"
   ]
  },
  {
   "cell_type": "markdown",
   "metadata": {},
   "source": [
    "![title](PMI.png)"
   ]
  },
  {
   "cell_type": "markdown",
   "metadata": {},
   "source": [
    "Users who use specific payment methods are more likely to churn compare to other payment methods."
   ]
  },
  {
   "cell_type": "markdown",
   "metadata": {},
   "source": [
    "# 4. Classification methods"
   ]
  },
  {
   "cell_type": "markdown",
   "metadata": {},
   "source": [
    "Trying different classification algorithms (Decision Tree, Random Forest and KNN), shows that Random Forest can predict the churn rate better that the other two. The f-score obtain by using Random Forest and top 5 features has a value of 0.883342."
   ]
  },
  {
   "cell_type": "markdown",
   "metadata": {},
   "source": [
    "![title](fscore.png)"
   ]
  }
 ],
 "metadata": {
  "kernelspec": {
   "display_name": "Python 2",
   "language": "python",
   "name": "python2"
  },
  "language_info": {
   "codemirror_mode": {
    "name": "ipython",
    "version": 2
   },
   "file_extension": ".py",
   "mimetype": "text/x-python",
   "name": "python",
   "nbconvert_exporter": "python",
   "pygments_lexer": "ipython2",
   "version": "2.7.12"
  }
 },
 "nbformat": 4,
 "nbformat_minor": 2
}
